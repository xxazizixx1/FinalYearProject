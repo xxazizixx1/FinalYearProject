{
  "nbformat": 4,
  "nbformat_minor": 0,
  "metadata": {
    "colab": {
      "provenance": [],
      "gpuType": "T4"
    },
    "kernelspec": {
      "name": "python3",
      "display_name": "Python 3"
    },
    "language_info": {
      "name": "python"
    },
    "accelerator": "GPU"
  },
  "cells": [
    {
      "cell_type": "markdown",
      "source": [
        "# ***GNN Model***\n",
        "1. Get Data from spreadsheet.\n",
        "2. Train model (150 epochs).\n",
        "3. Export model to Gdrive.\n",
        "4. Deploy to R4B.\n",
        "5. Display to Blynk IoT app."
      ],
      "metadata": {
        "id": "FFhLEbsoRz6d"
      }
    },
    {
      "cell_type": "code",
      "source": [
        "#install libraries\n",
        "!pip install torch_scatter -f https://pytorch-geometric.com/whl/torch-1.9.0+cpu.html\n",
        "!pip install torch_sparse -f https://pytorch-geometric.com/whl/torch-1.9.0+cpu.html\n",
        "!pip install torch_cluster -f https://pytorch-geometric.com/whl/torch-1.9.0+cpu.html\n",
        "!pip install torch_spline_conv -f https://pytorch-geometric.com/whl/torch-1.9.0+cpu.html\n",
        "!pip install torch_geometric\n",
        "!pip install torch torch_geometric pandas gspread oauth2client"
      ],
      "metadata": {
        "id": "jsqT-ZyAR4no"
      },
      "execution_count": null,
      "outputs": []
    },
    {
      "cell_type": "markdown",
      "source": [
        "**Complete Code**"
      ],
      "metadata": {
        "id": "pE-HccVvjJuU"
      }
    },
    {
      "cell_type": "code",
      "source": [
        "#import libraries\n",
        "import torch\n",
        "import torch.nn as nn\n",
        "import torch.optim as optim\n",
        "import torch.nn.functional as F\n",
        "import pandas as pd\n",
        "import numpy as np\n",
        "!pip install torch_geometric\n",
        "from torch_geometric.data import Data, DataLoader\n",
        "from torch_geometric.nn import GCNConv\n",
        "import gspread\n",
        "from oauth2client.service_account import ServiceAccountCredentials\n",
        "#mount the google drive\n",
        "from google.colab import drive\n",
        "drive.mount('/content/gdrive')\n",
        "from google.colab import auth\n",
        "auth.authenticate_user()\n",
        "\n",
        "import gspread\n",
        "from google.auth import default\n",
        "creds, _ = default()\n",
        "gc = gspread.authorize(creds)\n",
        "\n",
        "# Step 1: Read data from Google Spreadsheet\n",
        "spreadsheet_name = 'FYP (RoboLab)'  # Replace with your spreadsheet name\n",
        "worksheet_name = 'Sheet1'  # Replace with your worksheet name\n",
        "\n",
        "# Open the specified spreadsheet and worksheet\n",
        "spreadsheet = gc.open(spreadsheet_name)\n",
        "worksheet = spreadsheet.worksheet(worksheet_name)\n",
        "\n",
        "# Extract the data from the worksheet\n",
        "data = worksheet.get_all_values()\n",
        "headers = data[0]\n",
        "data = data[1:]\n",
        "\n",
        "# Convert data to a DataFrame\n",
        "df = pd.DataFrame(data, columns=headers)\n",
        "data = df.iloc[:, 2:].values.astype(float)  # Extract columns 3 to 11 (sensor readings)\n",
        "# edge_index = torch.tensor([[0, 1, 2, 3],\n",
        "#                            [1, 0, 3, 2],\n",
        "#                            [4, 5, 6],\n",
        "#                            [5, 4, 6],\n",
        "#                            [7, 8, 9],\n",
        "#                            [8, 7, 9]])\n",
        "edge_index = torch.tensor([\n",
        "    [0, 2], [0, 3], [0, 4], [0, 5],  # Sensor fusion 1 (0) connected to sensors 2, 3, 4, 5\n",
        "    [1, 2], [1, 3], [1, 4], [1, 5],  # Sensor fusion 2 (1) connected to sensors 2, 3, 4, 5\n",
        "    [6, 8], [6, 9], [6, 10],         # Sensor fusion 3 (6) connected to sensors 8, 9, 10\n",
        "    [7, 8], [7, 9], [7, 10],         # Sensor fusion 4 (7) connected to sensors 8, 9, 10\n",
        "])\n",
        "\n",
        "edge_index = edge_index.t().contiguous()  # Transpose and make contiguous\n",
        "\n",
        "\n",
        "\n",
        "# Step 2: Define the GCN model\n",
        "class GCN(nn.Module):\n",
        "    def __init__(self, input_dim, hidden_dim, output_dim):\n",
        "        super(GCN, self).__init__()\n",
        "        self.conv1 = GCNConv(input_dim, hidden_dim)\n",
        "        self.conv2 = GCNConv(hidden_dim, output_dim)\n",
        "\n",
        "    def forward(self, x, edge_index):\n",
        "        x = self.conv1(x, edge_index)\n",
        "        x = torch.relu(x)\n",
        "        x = self.conv2(x, edge_index)\n",
        "        return x\n",
        "\n",
        "# Step 3: Prepare the data for training\n",
        "x = torch.tensor(data, dtype=torch.float)\n",
        "y_distance = torch.tensor(df['FusionDistance'].astype(float).values, dtype=torch.float)  # Assuming the distance parameter is in 'Distance' column\n",
        "y_mass = torch.tensor(df['FusionFSR'].astype(float).values, dtype=torch.float)  # Assuming the mass parameter is in 'Mass' column\n",
        "num_nodes = x.shape[0]  # Get the number of nodes\n",
        "\n",
        "data = Data(x=x, edge_index=edge_index, y_distance=y_distance, y_mass=y_mass, num_nodes=num_nodes)\n",
        "loader = DataLoader([data], batch_size=1)\n",
        "\n",
        "\n",
        "# Step 4: Train the model\n",
        "train_losses = []  # List to store the training losses\n",
        "train_accuracies = []  # List to store the training accuracies\n",
        "input_dim = data.num_features\n",
        "hidden_dim = 64  # Adjust the hidden dimension as needed\n",
        "output_dim = 1  # Distance and mass are single-value predictions\n",
        "\n",
        "model = GCN(input_dim, hidden_dim, output_dim)\n",
        "criterion = nn.MSELoss()\n",
        "optimizer = optim.Adam(model.parameters(), lr=0.01)\n",
        "\n",
        "model.train()\n",
        "for epoch in range(150):\n",
        "    for batch in loader:\n",
        "        optimizer.zero_grad()\n",
        "        out = model(batch.x, batch.edge_index)\n",
        "        loss = criterion(out, batch.y_distance) + criterion(out, batch.y_mass)  # Combined loss for distance and mass\n",
        "        loss.backward()\n",
        "        optimizer.step()\n",
        "\n",
        "    # Calculate accuracy and loss\n",
        "    acc = 0.0  # Calculate the accuracy for the current epoch\n",
        "    loss = 0.0  # Calculate the loss for the current epoch\n",
        "\n",
        "    # Append accuracy and loss to the respective lists\n",
        "    train_accuracies.append(acc)\n",
        "    train_losses.append(loss)\n",
        "\n",
        "# Step 5: Save the trained model\n",
        "torch.save(model.state_dict(), 'gcn_model.pt')\n",
        "\n",
        "# Step 6: Download the model\n",
        "from google.colab import files\n",
        "files.download('gcn_model.pt')\n"
      ],
      "metadata": {
        "id": "NUdId5LEjMtB"
      },
      "execution_count": null,
      "outputs": []
    },
    {
      "cell_type": "markdown",
      "source": [
        "**NEW**\n"
      ],
      "metadata": {
        "id": "it0g_QAss9J7"
      }
    },
    {
      "cell_type": "code",
      "source": [
        "#import libraries\n",
        "import torch\n",
        "import torch.nn as nn\n",
        "import torch.optim as optim\n",
        "import torch.nn.functional as F\n",
        "import pandas as pd\n",
        "import numpy as np\n",
        "!pip install torch_geometric\n",
        "from torch_geometric.data import Data, DataLoader\n",
        "from torch_geometric.nn import GCNConv\n",
        "import gspread\n",
        "from oauth2client.service_account import ServiceAccountCredentials\n",
        "#mount the google drive\n",
        "from google.colab import drive\n",
        "drive.mount('/content/gdrive')\n",
        "from google.colab import auth\n",
        "auth.authenticate_user()\n",
        "\n",
        "import gspread\n",
        "from google.auth import default"
      ],
      "metadata": {
        "colab": {
          "base_uri": "https://localhost:8080/"
        },
        "id": "mScTWWc4wVOR",
        "outputId": "75c3430e-228c-4f0a-9e3a-95a1be890a51"
      },
      "execution_count": null,
      "outputs": [
        {
          "output_type": "stream",
          "name": "stdout",
          "text": [
            "Looking in indexes: https://pypi.org/simple, https://us-python.pkg.dev/colab-wheels/public/simple/\n",
            "Requirement already satisfied: torch_geometric in /usr/local/lib/python3.10/dist-packages (2.3.1)\n",
            "Requirement already satisfied: tqdm in /usr/local/lib/python3.10/dist-packages (from torch_geometric) (4.65.0)\n",
            "Requirement already satisfied: numpy in /usr/local/lib/python3.10/dist-packages (from torch_geometric) (1.22.4)\n",
            "Requirement already satisfied: scipy in /usr/local/lib/python3.10/dist-packages (from torch_geometric) (1.10.1)\n",
            "Requirement already satisfied: jinja2 in /usr/local/lib/python3.10/dist-packages (from torch_geometric) (3.1.2)\n",
            "Requirement already satisfied: requests in /usr/local/lib/python3.10/dist-packages (from torch_geometric) (2.27.1)\n",
            "Requirement already satisfied: pyparsing in /usr/local/lib/python3.10/dist-packages (from torch_geometric) (3.0.9)\n",
            "Requirement already satisfied: scikit-learn in /usr/local/lib/python3.10/dist-packages (from torch_geometric) (1.2.2)\n",
            "Requirement already satisfied: psutil>=5.8.0 in /usr/local/lib/python3.10/dist-packages (from torch_geometric) (5.9.5)\n",
            "Requirement already satisfied: MarkupSafe>=2.0 in /usr/local/lib/python3.10/dist-packages (from jinja2->torch_geometric) (2.1.2)\n",
            "Requirement already satisfied: urllib3<1.27,>=1.21.1 in /usr/local/lib/python3.10/dist-packages (from requests->torch_geometric) (1.26.15)\n",
            "Requirement already satisfied: certifi>=2017.4.17 in /usr/local/lib/python3.10/dist-packages (from requests->torch_geometric) (2022.12.7)\n",
            "Requirement already satisfied: charset-normalizer~=2.0.0 in /usr/local/lib/python3.10/dist-packages (from requests->torch_geometric) (2.0.12)\n",
            "Requirement already satisfied: idna<4,>=2.5 in /usr/local/lib/python3.10/dist-packages (from requests->torch_geometric) (3.4)\n",
            "Requirement already satisfied: joblib>=1.1.1 in /usr/local/lib/python3.10/dist-packages (from scikit-learn->torch_geometric) (1.2.0)\n",
            "Requirement already satisfied: threadpoolctl>=2.0.0 in /usr/local/lib/python3.10/dist-packages (from scikit-learn->torch_geometric) (3.1.0)\n",
            "Drive already mounted at /content/gdrive; to attempt to forcibly remount, call drive.mount(\"/content/gdrive\", force_remount=True).\n"
          ]
        }
      ]
    },
    {
      "cell_type": "code",
      "source": [
        "creds, _ = default()\n",
        "gc = gspread.authorize(creds)\n",
        "\n",
        "# Step 1: Read data from Google Spreadsheet\n",
        "spreadsheet_name = 'FYP (RoboLab)'  # Replace with your spreadsheet name\n",
        "worksheet_name = 'Sheet1'  # Replace with your worksheet name\n",
        "\n",
        "# Open the specified spreadsheet and worksheet\n",
        "spreadsheet = gc.open(spreadsheet_name)\n",
        "worksheet = spreadsheet.worksheet(worksheet_name)\n",
        "\n",
        "# Extract the data from the worksheet\n",
        "data = worksheet.get_all_values()\n",
        "headers = data[0]\n",
        "data = data[1:]\n",
        "\n",
        "# Convert data to a DataFrame\n",
        "df = pd.DataFrame(data, columns=headers)\n",
        "data = df.iloc[:, 2:].values.astype(float)  # Extract columns 3 to 11 (sensor readings)\n",
        "# edge_index = torch.tensor([[0, 1, 2, 3],\n",
        "#                            [1, 0, 3, 2],\n",
        "#                            [4, 5, 6],\n",
        "#                            [5, 4, 6],\n",
        "#                            [7, 8, 9],\n",
        "#                            [8, 7, 9]])\n",
        "edge_index = torch.tensor([\n",
        "    [0, 2], [0, 3], [0, 4], [0, 5],  # Sensor fusion 1 (0) connected to sensors 2, 3, 4, 5\n",
        "    [1, 2], [1, 3], [1, 4], [1, 5],  # Sensor fusion 2 (1) connected to sensors 2, 3, 4, 5\n",
        "    [6, 8], [6, 9], [6, 10],         # Sensor fusion 3 (6) connected to sensors 8, 9, 10\n",
        "    [7, 8], [7, 9], [7, 10],         # Sensor fusion 4 (7) connected to sensors 8, 9, 10\n",
        "])\n",
        "\n",
        "edge_index = edge_index.t().contiguous()  # Transpose and make contiguous\n",
        "\n",
        "\n",
        "\n",
        "# Step 2: Define the GCN model\n",
        "class GCN(nn.Module):\n",
        "    def __init__(self, input_dim, hidden_dim, output_dim):\n",
        "        super(GCN, self).__init__()\n",
        "        self.conv1 = GCNConv(input_dim, hidden_dim)\n",
        "        self.conv2 = GCNConv(hidden_dim, output_dim)\n",
        "\n",
        "    def forward(self, x, edge_index):\n",
        "        x = self.conv1(x, edge_index)\n",
        "        x = torch.relu(x)\n",
        "        x = self.conv2(x, edge_index)\n",
        "        return x\n",
        "\n",
        "# Step 3: Prepare the data for training\n",
        "x = torch.tensor(data, dtype=torch.float)\n",
        "y_distance = torch.tensor(df['FusionDistance'].astype(float).values, dtype=torch.float)  # Assuming the distance parameter is in 'Distance' column\n",
        "y_mass = torch.tensor(df['FusionFSR'].astype(float).values, dtype=torch.float)  # Assuming the mass parameter is in 'Mass' column\n",
        "num_nodes = x.shape[0]  # Get the number of nodes\n",
        "\n",
        "data = Data(x=x, edge_index=edge_index, y_distance=y_distance, y_mass=y_mass, num_nodes=num_nodes)\n",
        "loader = DataLoader([data], batch_size=1)\n",
        "\n",
        "\n",
        "# Step 4: Train the model\n",
        "train_losses = []  # List to store the training losses\n",
        "train_accuracies = []  # List to store the training accuracies\n",
        "input_dim = data.num_features\n",
        "hidden_dim = 64  # Adjust the hidden dimension as needed\n",
        "output_dim = 1  # Distance and mass are single-value predictions\n",
        "\n",
        "model = GCN(input_dim, hidden_dim, output_dim)\n",
        "criterion = nn.MSELoss()\n",
        "optimizer = optim.Adam(model.parameters(), lr=0.0001)\n",
        "\n",
        "model.train()\n",
        "for epoch in range(200):\n",
        "    epoch_loss = 0.0\n",
        "    epoch_accuracy = 0.0\n",
        "    num_samples = 0\n",
        "\n",
        "    def compute_accuracy(pred, target_distance, target_mass):\n",
        "      pred = pred.round()\n",
        "      correct_distance = pred.eq(target_distance.view_as(pred)).sum().item()\n",
        "      correct_mass = pred.eq(target_mass.view_as(pred)).sum().item()\n",
        "      total = target_distance.numel() + target_mass.numel()\n",
        "      accuracy_distance = correct_distance / target_distance.numel()\n",
        "      accuracy_mass = correct_mass / target_mass.numel()\n",
        "      accuracy = (accuracy_distance + accuracy_mass) / 2  # Average accuracy\n",
        "      return accuracy\n",
        "\n",
        "    for batch in loader:\n",
        "        optimizer.zero_grad()\n",
        "        out = model(batch.x, batch.edge_index)\n",
        "        loss = criterion(out, batch.y_distance) + criterion(out, batch.y_mass)  # Combined loss for distance and mass\n",
        "        loss.backward()\n",
        "        optimizer.step()\n",
        "\n",
        "        epoch_loss += loss.item() * batch.num_graphs\n",
        "        epoch_accuracy += compute_accuracy(out, batch.y_distance, batch.y_mass) * batch.num_graphs\n",
        "        num_samples += batch.num_graphs\n",
        "\n",
        "    epoch_loss /= num_samples\n",
        "    epoch_accuracy /= num_samples\n",
        "\n",
        "    train_losses.append(epoch_loss)\n",
        "    train_accuracies.append(epoch_accuracy)\n",
        "\n",
        "# Step 5: Save the trained model\n",
        "torch.save(model.state_dict(), 'GCNmodel.pt')\n",
        "\n",
        "# Step 6: Download the model\n",
        "from google.colab import files\n",
        "files.download('GCNmodel.pt')\n",
        "print('Downloaded')\n"
      ],
      "metadata": {
        "colab": {
          "base_uri": "https://localhost:8080/",
          "height": 124
        },
        "id": "O4YeUvCcwULV",
        "outputId": "cfe64b23-743c-4d67-a963-7a8c57934cac"
      },
      "execution_count": null,
      "outputs": [
        {
          "output_type": "stream",
          "name": "stderr",
          "text": [
            "/usr/local/lib/python3.10/dist-packages/torch_geometric/deprecation.py:22: UserWarning: 'data.DataLoader' is deprecated, use 'loader.DataLoader' instead\n",
            "  warnings.warn(out)\n",
            "/usr/local/lib/python3.10/dist-packages/torch/nn/modules/loss.py:536: UserWarning: Using a target size (torch.Size([239])) that is different to the input size (torch.Size([239, 1])). This will likely lead to incorrect results due to broadcasting. Please ensure they have the same size.\n",
            "  return F.mse_loss(input, target, reduction=self.reduction)\n"
          ]
        },
        {
          "output_type": "display_data",
          "data": {
            "text/plain": [
              "<IPython.core.display.Javascript object>"
            ],
            "application/javascript": [
              "\n",
              "    async function download(id, filename, size) {\n",
              "      if (!google.colab.kernel.accessAllowed) {\n",
              "        return;\n",
              "      }\n",
              "      const div = document.createElement('div');\n",
              "      const label = document.createElement('label');\n",
              "      label.textContent = `Downloading \"${filename}\": `;\n",
              "      div.appendChild(label);\n",
              "      const progress = document.createElement('progress');\n",
              "      progress.max = size;\n",
              "      div.appendChild(progress);\n",
              "      document.body.appendChild(div);\n",
              "\n",
              "      const buffers = [];\n",
              "      let downloaded = 0;\n",
              "\n",
              "      const channel = await google.colab.kernel.comms.open(id);\n",
              "      // Send a message to notify the kernel that we're ready.\n",
              "      channel.send({})\n",
              "\n",
              "      for await (const message of channel.messages) {\n",
              "        // Send a message to notify the kernel that we're ready.\n",
              "        channel.send({})\n",
              "        if (message.buffers) {\n",
              "          for (const buffer of message.buffers) {\n",
              "            buffers.push(buffer);\n",
              "            downloaded += buffer.byteLength;\n",
              "            progress.value = downloaded;\n",
              "          }\n",
              "        }\n",
              "      }\n",
              "      const blob = new Blob(buffers, {type: 'application/binary'});\n",
              "      const a = document.createElement('a');\n",
              "      a.href = window.URL.createObjectURL(blob);\n",
              "      a.download = filename;\n",
              "      div.appendChild(a);\n",
              "      a.click();\n",
              "      div.remove();\n",
              "    }\n",
              "  "
            ]
          },
          "metadata": {}
        },
        {
          "output_type": "display_data",
          "data": {
            "text/plain": [
              "<IPython.core.display.Javascript object>"
            ],
            "application/javascript": [
              "download(\"download_5749250f-ee28-4f05-a7b1-28b9cfb661ad\", \"GCNmodel.pt\", 4581)"
            ]
          },
          "metadata": {}
        },
        {
          "output_type": "stream",
          "name": "stdout",
          "text": [
            "Downloaded\n"
          ]
        }
      ]
    }
  ]
}